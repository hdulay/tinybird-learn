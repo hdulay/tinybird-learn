{
 "cells": [
  {
   "cell_type": "markdown",
   "id": "a58b0a0c",
   "metadata": {},
   "source": [
    "# Loading Secrets\n",
    "This cell allows you to save your credentials in a .env file."
   ]
  },
  {
   "cell_type": "code",
   "execution_count": null,
   "id": "56968649",
   "metadata": {
    "scrolled": true
   },
   "outputs": [],
   "source": [
    "from dotenv import load_dotenv\n",
    "import os\n",
    "\n",
    "load_dotenv('../.env')\n",
    "token =  os.getenv('TOKEN')\n",
    "print(f'{token}')"
   ]
  },
  {
   "cell_type": "code",
   "execution_count": null,
   "id": "95b6ce94",
   "metadata": {},
   "outputs": [],
   "source": [
    "import requests\n",
    "params = {\n",
    "    'token': token\n",
    "}\n",
    "\n",
    "url = f'https://api.us-east.tinybird.co/v0/pipes/osquery_processes_tb_pipe_top.json'\n",
    "response = requests.get(url, params=params)\n",
    "data = response.json()\n",
    "print(data)"
   ]
  },
  {
   "cell_type": "code",
   "execution_count": null,
   "id": "965a9aad",
   "metadata": {},
   "outputs": [],
   "source": [
    "!pip install pandas\n"
   ]
  },
  {
   "cell_type": "code",
   "execution_count": null,
   "id": "2f56ea3f",
   "metadata": {},
   "outputs": [],
   "source": [
    "import pandas\n",
    "\n",
    "df = pandas.DataFrame(data['data'])\n",
    "df"
   ]
  }
 ],
 "metadata": {
  "kernelspec": {
   "display_name": "Python 3.9.6 64-bit",
   "language": "python",
   "name": "python3"
  },
  "language_info": {
   "codemirror_mode": {
    "name": "ipython",
    "version": 3
   },
   "file_extension": ".py",
   "mimetype": "text/x-python",
   "name": "python",
   "nbconvert_exporter": "python",
   "pygments_lexer": "ipython3",
   "version": "3.9.6"
  },
  "vscode": {
   "interpreter": {
    "hash": "5edc29c2ed010d6458d71a83433b383a96a8cbd3efe8531bc90c4b8a5b8bcec9"
   }
  }
 },
 "nbformat": 4,
 "nbformat_minor": 5
}
